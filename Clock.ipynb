{
 "cells": [
  {
   "cell_type": "code",
   "execution_count": 2,
   "metadata": {
    "collapsed": false
   },
   "outputs": [],
   "source": [
    "# Build an exhaustive list of audio files (ranging from 1 to 59) given a base of audio units.\n",
    "# For example, 42.wav is composed with 40.wav and 2.wav\n",
    "# Base units = [ 0, 1, and1, 2:16, 20, 30, 40, 50 ] have to be located in pathUnit.\n",
    "# Final files are generated in pathFull.\n",
    "\n",
    "pathUnit = '/myPathUnit/'\n",
    "pathFull = '/myPathFull/'\n",
    "\n",
    "tSet = range(17,60)\n",
    "tSet = [t for t in tSet if t%10 != 0] # remove multiple of ten\n",
    "\n",
    "# Compose audio files (for ex 42) using base units (40 and 2)\n",
    "from subprocess import run\n",
    "for t in tSet:\n",
    "    (d,u) = divmod(t,10)\n",
    "    run(['sox',pathUnit+str(d)+'0.ogg',pathUnit+str(u)+'.ogg',pathFull+str(t)+'.ogg'])\n",
    "\n",
    "# Pool files\n",
    "import glob, shutil, os\n",
    "for f in glob.iglob(os.path.join(pathUnit,\"*.ogg\")):\n",
    "    shutil.copy(f,pathFull)\n",
    "os.remove(pathFull+'1.ogg')\n",
    "os.rename(pathFull+'01.ogg', pathFull+'1.ogg')"
   ]
  }
 ],
 "metadata": {
  "kernelspec": {
   "display_name": "Python 3",
   "language": "python",
   "name": "python3"
  },
  "language_info": {
   "codemirror_mode": {
    "name": "ipython",
    "version": 3
   },
   "file_extension": ".py",
   "mimetype": "text/x-python",
   "name": "python",
   "nbconvert_exporter": "python",
   "pygments_lexer": "ipython3",
   "version": "3.5.1"
  }
 },
 "nbformat": 4,
 "nbformat_minor": 0
}
